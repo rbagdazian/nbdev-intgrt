{
 "cells": [
  {
   "cell_type": "markdown",
   "metadata": {},
   "source": [
    "# intgrt\n",
    "\n",
    "> Performs numeric integration for a provided function over a specific interval."
   ]
  },
  {
   "cell_type": "code",
   "execution_count": null,
   "metadata": {},
   "outputs": [],
   "source": [
    "#| default_exp intgrt"
   ]
  },
  {
   "cell_type": "code",
   "execution_count": null,
   "metadata": {},
   "outputs": [],
   "source": [
    "#| hide\n",
    "from nbdev.showdoc import *"
   ]
  },
  {
   "cell_type": "code",
   "execution_count": null,
   "metadata": {},
   "outputs": [],
   "source": [
    "#| export\n",
    "def intgrt(func, # function or method representing the curve being integrated\n",
    "           lbnd:float, # lower bound of integration\n",
    "           ubnd:float, # upper bound of integration\n",
    "           intvl:float): # value to be used for 'dx'\n",
    "    \"\"\"This function performs a numeric integration using a simple summation approach\"\"\"\n",
    "    sumx =0\n",
    "    lside=lbnd\n",
    "    rside=lbnd+intvl\n",
    "    while(rside<ubnd):\n",
    "        avgval = (func(lside) + func(rside))/2\n",
    "        dx = (rside-lside)\n",
    "        sumx = sumx + (dx*avgval)\n",
    "        lside = lside + intvl\n",
    "        rside = rside + intvl\n",
    "        #print(rside,ubnd)\n",
    "    return sumx"
   ]
  },
  {
   "cell_type": "code",
   "execution_count": null,
   "metadata": {},
   "outputs": [],
   "source": [
    "#| hide\n",
    "import nbdev; nbdev.nbdev_export()"
   ]
  }
 ],
 "metadata": {
  "kernelspec": {
   "display_name": "Python 3 (ipykernel)",
   "language": "python",
   "name": "python3"
  }
 },
 "nbformat": 4,
 "nbformat_minor": 4
}
